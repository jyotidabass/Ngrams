{
  "nbformat": 4,
  "nbformat_minor": 0,
  "metadata": {
    "colab": {
      "name": "Ngrams.ipynb",
      "provenance": [],
      "authorship_tag": "ABX9TyPEEjutbjHTItjILkJ+K9GR",
      "include_colab_link": true
    },
    "kernelspec": {
      "name": "python3",
      "display_name": "Python 3"
    },
    "language_info": {
      "name": "python"
    }
  },
  "cells": [
    {
      "cell_type": "markdown",
      "metadata": {
        "id": "view-in-github",
        "colab_type": "text"
      },
      "source": [
        "<a href=\"https://colab.research.google.com/github/jyotidabass/Ngrams/blob/main/Ngrams.ipynb\" target=\"_parent\"><img src=\"https://colab.research.google.com/assets/colab-badge.svg\" alt=\"Open In Colab\"/></a>"
      ]
    },
    {
      "cell_type": "code",
      "execution_count": 2,
      "metadata": {
        "colab": {
          "base_uri": "https://localhost:8080/"
        },
        "id": "eYHlXUgDramr",
        "outputId": "d9b5556b-7103-4ae0-9686-38ad93963fe8"
      },
      "outputs": [
        {
          "output_type": "stream",
          "name": "stdout",
          "text": [
            "[nltk_data] Downloading package punkt to /root/nltk_data...\n",
            "[nltk_data]   Unzipping tokenizers/punkt.zip.\n",
            "[('hi', ',', 'how'), (',', 'how', 'are'), ('how', 'are', 'you'), ('are', 'you', '?')]\n"
          ]
        }
      ],
      "source": [
        "import nltk\n",
        "nltk.download('punkt')\n",
        "from nltk import ngrams\n",
        "from nltk.tokenize import word_tokenize\n",
        "# let's see 3 grams\n",
        "N = 3\n",
        "# input sentence\n",
        "sentence = \"hi, how are you?\"\n",
        "# tokenized sentence\n",
        "tokenized_sentence = word_tokenize(sentence)\n",
        "# generate n_grams\n",
        "n_grams = list(ngrams(tokenized_sentence, N))\n",
        "print(n_grams)"
      ]
    }
  ]
}